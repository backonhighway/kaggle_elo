{
 "cells": [
  {
   "cell_type": "code",
   "execution_count": 5,
   "metadata": {},
   "outputs": [
    {
     "ename": "ModuleNotFoundError",
     "evalue": "No module named 'elo'",
     "traceback": [
      "\u001b[0;31m---------------------------------------------------------------------------\u001b[0m",
      "\u001b[0;31mModuleNotFoundError\u001b[0m                       Traceback (most recent call last)",
      "\u001b[0;32m<ipython-input-5-cdfaa86143a9>\u001b[0m in \u001b[0;36m<module>\u001b[0;34m()\u001b[0m\n\u001b[1;32m      1\u001b[0m \u001b[0;32mimport\u001b[0m \u001b[0mnumpy\u001b[0m \u001b[0;32mas\u001b[0m \u001b[0mnp\u001b[0m\u001b[0;34m\u001b[0m\u001b[0m\n\u001b[1;32m      2\u001b[0m \u001b[0;32mimport\u001b[0m \u001b[0mpandas\u001b[0m \u001b[0;32mas\u001b[0m \u001b[0mpd\u001b[0m\u001b[0;34m\u001b[0m\u001b[0m\n\u001b[0;32m----> 3\u001b[0;31m \u001b[0;32mfrom\u001b[0m \u001b[0melo\u001b[0m\u001b[0;34m.\u001b[0m\u001b[0mcommon\u001b[0m \u001b[0;32mimport\u001b[0m \u001b[0mpocket_timer\u001b[0m\u001b[0;34m\u001b[0m\u001b[0m\n\u001b[0m",
      "\u001b[0;31mModuleNotFoundError\u001b[0m: No module named 'elo'"
     ],
     "output_type": "error"
    }
   ],
   "source": [
    "import numpy as np \n",
    "import pandas as pd"
   ]
  },
  {
   "cell_type": "code",
   "execution_count": 7,
   "metadata": {},
   "outputs": [],
   "source": [
    "train = pd.read_csv(\"../input/train.csv\")\n",
    "merchants = pd.read_csv(\"../input/merchants.csv\")\n",
    "new_merchants = pd.read_csv(\"../input/new_merchant_transactions.csv\")"
   ]
  },
  {
   "cell_type": "code",
   "execution_count": 8,
   "metadata": {},
   "outputs": [
    {
     "name": "stdout",
     "output_type": "stream",
     "text": [
      "1963031\n"
     ]
    }
   ],
   "source": [
    "print(len(new_merchants))"
   ]
  },
  {
   "cell_type": "code",
   "execution_count": 9,
   "metadata": {},
   "outputs": [
    {
     "name": "stdout",
     "output_type": "stream",
     "text": [
      "           feature_1      feature_2      feature_3         target\n",
      "count  201917.000000  201917.000000  201917.000000  201917.000000\n",
      "mean        3.105311       1.745410       0.565569      -0.393636\n",
      "std         1.186160       0.751362       0.495683       3.850500\n",
      "min         1.000000       1.000000       0.000000     -33.219281\n",
      "25%         2.000000       1.000000       0.000000      -0.883110\n",
      "50%         3.000000       2.000000       1.000000      -0.023437\n",
      "75%         4.000000       2.000000       1.000000       0.765453\n",
      "max         5.000000       3.000000       1.000000      17.965068\n"
     ]
    }
   ],
   "source": [
    "print(train.describe())"
   ]
  },
  {
   "cell_type": "code",
   "execution_count": 10,
   "metadata": {},
   "outputs": [
    {
     "name": "stdout",
     "output_type": "stream",
     "text": [
      "Index(['first_active_month', 'card_id', 'feature_1', 'feature_2', 'feature_3',\n",
      "       'target'],\n",
      "      dtype='object')\n"
     ]
    }
   ],
   "source": [
    "print(train.columns)"
   ]
  },
  {
   "cell_type": "code",
   "execution_count": 11,
   "metadata": {},
   "outputs": [
    {
     "name": "stdout",
     "output_type": "stream",
     "text": [
      "    first_active_month          card_id  feature_1  feature_2  feature_3  \\\n",
      "64             2017-09  C_ID_8186f3fcc1          3          1          1   \n",
      "92             2015-05  C_ID_b9379a30ea          3          3          1   \n",
      "125            2015-10  C_ID_e9120f535c          3          3          1   \n",
      "151            2017-03  C_ID_65715cb80d          4          2          0   \n",
      "225            2017-01  C_ID_ae77d244b6          2          1          0   \n",
      "\n",
      "        target  \n",
      "64  -33.219281  \n",
      "92  -33.219281  \n",
      "125 -33.219281  \n",
      "151 -33.219281  \n",
      "225 -33.219281  \n"
     ]
    }
   ],
   "source": [
    "bad = train.query(\"target <= -30\")\n",
    "print(bad.head())"
   ]
  },
  {
   "cell_type": "code",
   "execution_count": 13,
   "metadata": {},
   "outputs": [
    {
     "name": "stdout",
     "output_type": "stream",
     "text": [
      "  authorized_flag          card_id  city_id category_1  installments  \\\n",
      "0               Y  C_ID_415bb3a509      107          N             1   \n",
      "1               Y  C_ID_415bb3a509      140          N             1   \n",
      "2               Y  C_ID_415bb3a509      330          N             1   \n",
      "3               Y  C_ID_415bb3a509       -1          Y             1   \n",
      "4               Y  C_ID_ef55cf8d4b       -1          Y             1   \n",
      "\n",
      "  category_3  merchant_category_id      merchant_id  month_lag  \\\n",
      "0          B                   307  M_ID_b0c793002c          1   \n",
      "1          B                   307  M_ID_88920c89e8          1   \n",
      "2          B                   507  M_ID_ad5237ef6b          2   \n",
      "3          B                   661  M_ID_9e84cda3b1          1   \n",
      "4          B                   166  M_ID_3c86fa3831          1   \n",
      "\n",
      "   purchase_amount        purchase_date  category_2  state_id  subsector_id  \n",
      "0        -0.557574  2018-03-11 14:57:36         1.0         9            19  \n",
      "1        -0.569580  2018-03-19 18:53:37         1.0         9            19  \n",
      "2        -0.551037  2018-04-26 14:08:44         1.0         9            14  \n",
      "3        -0.671925  2018-03-07 09:43:21         NaN        -1             8  \n",
      "4        -0.659904  2018-03-22 21:07:53         NaN        -1            29  \n"
     ]
    }
   ],
   "source": [
    "print(new_merchants.head())"
   ]
  },
  {
   "cell_type": "code",
   "execution_count": 14,
   "metadata": {},
   "outputs": [
    {
     "name": "stdout",
     "output_type": "stream",
     "text": [
      "2207\n",
      "8035\n",
      "  first_active_month          card_id  feature_1  feature_2  feature_3  \\\n",
      "0            2017-09  C_ID_8186f3fcc1          3          1          1   \n",
      "1            2017-09  C_ID_8186f3fcc1          3          1          1   \n",
      "2            2017-09  C_ID_8186f3fcc1          3          1          1   \n",
      "3            2017-09  C_ID_8186f3fcc1          3          1          1   \n",
      "4            2017-09  C_ID_8186f3fcc1          3          1          1   \n",
      "\n",
      "      target authorized_flag  city_id category_1  installments category_3  \\\n",
      "0 -33.219281               Y    149.0          N           1.0          B   \n",
      "1 -33.219281               Y    149.0          N           1.0          B   \n",
      "2 -33.219281               Y    149.0          N           1.0          B   \n",
      "3 -33.219281               Y    149.0          N           1.0          B   \n",
      "4 -33.219281               Y    288.0          N           1.0          B   \n",
      "\n",
      "   merchant_category_id      merchant_id  month_lag  purchase_amount  \\\n",
      "0                 367.0              NaN        1.0        -0.701828   \n",
      "1                  80.0  M_ID_fbaae334f0        2.0        -0.682594   \n",
      "2                 560.0  M_ID_b55158e29e        2.0        -0.701152   \n",
      "3                 130.0  M_ID_b3dc59a9a9        1.0        -0.709342   \n",
      "4                  80.0  M_ID_2d22260d5e        1.0        -0.695818   \n",
      "\n",
      "         purchase_date  category_2  state_id  subsector_id  \n",
      "0  2018-03-10 22:51:58         5.0      20.0          16.0  \n",
      "1  2018-04-23 20:55:01         5.0      20.0          37.0  \n",
      "2  2018-04-07 11:26:11         5.0      20.0          34.0  \n",
      "3  2018-03-08 08:49:23         5.0      20.0          41.0  \n",
      "4  2018-03-16 20:37:22         5.0      20.0          37.0  \n"
     ]
    }
   ],
   "source": [
    "bad_ = pd.merge(bad, new_merchants, on=\"card_id\", how=\"left\")\n",
    "print(len(bad))\n",
    "print(len(bad_))\n",
    "print(bad_.head())"
   ]
  },
  {
   "cell_type": "code",
   "execution_count": 16,
   "metadata": {},
   "outputs": [],
   "source": [
    "bad_.to_csv(\"../output/bad.csv\", index=False)"
   ]
  },
  {
   "cell_type": "code",
   "execution_count": 17,
   "metadata": {},
   "outputs": [],
   "source": [
    "historical = pd.read_csv(\"../input/historical_transactions.csv\")"
   ]
  },
  {
   "cell_type": "code",
   "execution_count": 19,
   "metadata": {},
   "outputs": [
    {
     "name": "stdout",
     "output_type": "stream",
     "text": [
      "2207\n",
      "180105\n",
      "  first_active_month          card_id  feature_1  feature_2  feature_3  \\\n",
      "0            2017-09  C_ID_8186f3fcc1          3          1          1   \n",
      "1            2017-09  C_ID_8186f3fcc1          3          1          1   \n",
      "2            2017-09  C_ID_8186f3fcc1          3          1          1   \n",
      "3            2017-09  C_ID_8186f3fcc1          3          1          1   \n",
      "4            2017-09  C_ID_8186f3fcc1          3          1          1   \n",
      "\n",
      "      target authorized_flag  city_id category_1  installments category_3  \\\n",
      "0 -33.219281               Y      149          N             1          B   \n",
      "1 -33.219281               Y       -1          Y             2          C   \n",
      "2 -33.219281               Y      304          N             1          B   \n",
      "3 -33.219281               Y      149          N             1          B   \n",
      "4 -33.219281               Y      149          N             1          B   \n",
      "\n",
      "   merchant_category_id      merchant_id  month_lag  purchase_amount  \\\n",
      "0                   705  M_ID_f15a843a23         -1        -0.618055   \n",
      "1                   683  M_ID_7de9fe0811         -4        -0.431381   \n",
      "2                   690  M_ID_fbd2a9a388         -5        -0.611714   \n",
      "3                   705  M_ID_96fad20d15         -2        -0.405535   \n",
      "4                   842  M_ID_7e872c40f6         -1        -0.623690   \n",
      "\n",
      "         purchase_date  category_2  state_id  subsector_id  \n",
      "0  2018-01-06 11:57:23         5.0        20            33  \n",
      "1  2017-10-08 02:54:59         NaN        -1            34  \n",
      "2  2017-09-30 21:07:14         5.0        20             1  \n",
      "3  2017-12-26 16:50:51         5.0        20            33  \n",
      "4  2018-01-13 21:31:40         5.0        20            37  \n"
     ]
    }
   ],
   "source": [
    "bad_2 = pd.merge(bad, historical, on=\"card_id\", how=\"left\")\n",
    "print(len(bad))\n",
    "print(len(bad_2))\n",
    "print(bad_2.head())\n"
   ]
  },
  {
   "cell_type": "code",
   "execution_count": 20,
   "metadata": {},
   "outputs": [],
   "source": [
    "bad_2.to_csv(\"../output/bad_2.csv\", index=False)"
   ]
  },
  {
   "cell_type": "code",
   "execution_count": 21,
   "metadata": {},
   "outputs": [
    {
     "name": "stdout",
     "output_type": "stream",
     "text": [
      "            city_id  installments  merchant_category_id     month_lag  \\\n",
      "count  2.911236e+07  2.911236e+07          2.911236e+07  2.911236e+07   \n",
      "mean   1.293256e+02  6.484954e-01          4.810130e+02 -4.487294e+00   \n",
      "std    1.042563e+02  2.795577e+00          2.493757e+02  3.588800e+00   \n",
      "min   -1.000000e+00 -1.000000e+00         -1.000000e+00 -1.300000e+01   \n",
      "25%    5.300000e+01  0.000000e+00          3.070000e+02 -7.000000e+00   \n",
      "50%    9.000000e+01  0.000000e+00          4.540000e+02 -4.000000e+00   \n",
      "75%    2.120000e+02  1.000000e+00          7.050000e+02 -2.000000e+00   \n",
      "max    3.470000e+02  9.990000e+02          8.910000e+02  0.000000e+00   \n",
      "\n",
      "       purchase_amount    category_2      state_id  subsector_id  \n",
      "count     2.911236e+07  2.645950e+07  2.911236e+07  2.911236e+07  \n",
      "mean      3.640090e-02  2.194578e+00  1.056679e+01  2.684839e+01  \n",
      "std       1.123522e+03  1.531896e+00  6.366927e+00  9.692793e+00  \n",
      "min      -7.469078e-01  1.000000e+00 -1.000000e+00 -1.000000e+00  \n",
      "25%      -7.203559e-01  1.000000e+00  9.000000e+00  1.900000e+01  \n",
      "50%      -6.883495e-01  1.000000e+00  9.000000e+00  2.900000e+01  \n",
      "75%      -6.032543e-01  3.000000e+00  1.600000e+01  3.400000e+01  \n",
      "max       6.010604e+06  5.000000e+00  2.400000e+01  4.100000e+01  \n"
     ]
    }
   ],
   "source": [
    "print(historical.describe())"
   ]
  },
  {
   "cell_type": "code",
   "execution_count": 24,
   "metadata": {},
   "outputs": [
    {
     "name": "stdout",
     "output_type": "stream",
     "text": [
      "6297\n"
     ]
    }
   ],
   "source": [
    "good = train.query(\"target <= 5 and target >= 3\")\n",
    "print(len(good))"
   ]
  },
  {
   "cell_type": "code",
   "execution_count": 26,
   "metadata": {},
   "outputs": [
    {
     "name": "stdout",
     "output_type": "stream",
     "text": [
      "346474\n"
     ]
    }
   ],
   "source": [
    "good_ = pd.merge(good, historical, on=\"card_id\", how=\"left\")\n",
    "print(len(good_))"
   ]
  },
  {
   "cell_type": "code",
   "execution_count": 27,
   "metadata": {},
   "outputs": [],
   "source": [
    "good_.to_csv(\"../output/good.csv\", index=False)"
   ]
  },
  {
   "cell_type": "code",
   "execution_count": null,
   "metadata": {},
   "outputs": [],
   "source": []
  }
 ],
 "metadata": {
  "kernelspec": {
   "display_name": "Python 3",
   "language": "python",
   "name": "python3"
  },
  "language_info": {
   "codemirror_mode": {
    "name": "ipython",
    "version": 3
   },
   "file_extension": ".py",
   "mimetype": "text/x-python",
   "name": "python",
   "nbconvert_exporter": "python",
   "pygments_lexer": "ipython3",
   "version": "3.7.0"
  }
 },
 "nbformat": 4,
 "nbformat_minor": 1
}
